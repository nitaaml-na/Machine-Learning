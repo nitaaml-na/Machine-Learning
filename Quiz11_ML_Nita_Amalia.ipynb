{
  "nbformat": 4,
  "nbformat_minor": 0,
  "metadata": {
    "colab": {
      "name": "Quiz11_ML_Nita Amalia.ipynb",
      "provenance": [],
      "authorship_tag": "ABX9TyOHmUDe/gXH6ElubypHYP7W",
      "include_colab_link": true
    },
    "kernelspec": {
      "name": "python3",
      "display_name": "Python 3"
    },
    "language_info": {
      "name": "python"
    }
  },
  "cells": [
    {
      "cell_type": "markdown",
      "metadata": {
        "id": "view-in-github",
        "colab_type": "text"
      },
      "source": [
        "<a href=\"https://colab.research.google.com/github/nitaaml-na/Machine-Learning/blob/main/Quiz11_ML_Nita_Amalia.ipynb\" target=\"_parent\"><img src=\"https://colab.research.google.com/assets/colab-badge.svg\" alt=\"Open In Colab\"/></a>"
      ]
    },
    {
      "cell_type": "markdown",
      "source": [
        "# **Quiz 11 Pembelajaran Mesin**\n",
        "\n",
        "NIM, Nama, Kelas: 1197050097 Nita Amalia E"
      ],
      "metadata": {
        "id": "242ZGXgO4AdN"
      }
    },
    {
      "cell_type": "markdown",
      "source": [
        "#**Topik Mini Riset**\n",
        "\n",
        "Mini riset ini mengenai klasifikasi atau deteksi gambar wajah yang mengenakan masker dan tidak mengenakan masker menggunakan algoritma Convolutional Neural Network (CNN)"
      ],
      "metadata": {
        "id": "iVsWX2Q24Lr-"
      }
    },
    {
      "cell_type": "markdown",
      "source": [
        "#**Business Understanding**\n",
        "\n",
        "#Latar Belakang Masalah\n",
        "Penggunaan masker sangat dianjurkan untuk penanganan dan pencegahan tersebarnya virus terutama pada masa pandemi COVID-19. Namun, tak semua masyarakat taat akan protokol kesehatan sehingga tidak mengenakan masker dan akibatnya tidak dapat menekan penyebaran virus corona di lingkungan sekitar dan merenggut banyak nyawa.\n",
        "\n",
        "#Identifikasi Masalah\n",
        "Persebaran virus COVID-19 sangatlah pesat dan menyebabkan kerugian bagi sebagian orang. Namun, kita dapat melakukan pencegahan sedini mungkin untuk menekan penyebaran virus dengan mematuhi protokol kesehatan salah satunya dengan taat mengenakan masker. Oleh karena itu, perlu adanya alat pendeteksi wajah untuk mengetahui seseorang mengenakan masker dan tidak, guna membantu penanganan penyebaran virus.\n",
        "\n",
        "\n",
        "#Metode/ Pendekatan Penyelesaian Masalah\n",
        "Metode yang digunakan adalah algoritma Convolutional Neural Network yang merupakan salah satu jenis algoritma Deep Learning yang dapat menerima input berupa gambar, menentukan aspek atau obyek apa saja dalam sebuah gambar yang bisa digunakan mesin untuk “belajar” mengenali gambar, dan membedakan antara satu gambar dengan yang lainnya. Maka pada mini riset ini disediakan dataset berisi gambar wajah dengan dan tanpa mengenakan masker.\n",
        "\n",
        "#Tujuan Teknis\n",
        "Deteksi wajah dengan dan tanpa mengenakan masker berdasarkan pengklasifikasian gambar pada dataset guna membantu penanganan penyebaran virus.\n",
        "\n",
        "\n",
        "#Kriteria Kesuksesan\n",
        "Akurasi mencapai diatas 70%\n",
        "\n",
        "#Timeline\n",
        "1. 20-05-2022 : Penentuan Judul Mini Riset\n",
        "2. 21-05-2022 : Perancangan Business Understanding\n",
        "3. 21-05-2022 : Perancangan Data Understanding\n",
        "4. 27-05-2022 : Data Preparation\n",
        "5. 29-05-2022 : Modeling dan Evaluasi"
      ],
      "metadata": {
        "id": "JdQ5q44H4Trr"
      }
    },
    {
      "cell_type": "markdown",
      "source": [
        "#**Data Understanding**\n",
        "\n",
        "Dataset merupakan sekumpulan gambar wajah orang dengan mengenakan masker wajah dan tanpa mengenakan masker wajah sejumlah kurang lebih 300.000 gambar sample. Dataset sudah dibagi menjadi folder training dan testing dengan 4000+ gambar pada training set.\n",
        "\n",
        "dataset face mask detection diakses dari:\n",
        "https://www.kaggle.com/code/arbazkhan971/face-mask-detection-using-cnn-98-accuracy/notebook"
      ],
      "metadata": {
        "id": "cOaq950V4VEJ"
      }
    }
  ]
}